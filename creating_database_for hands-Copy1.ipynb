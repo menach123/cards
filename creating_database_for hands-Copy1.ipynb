{
 "cells": [
  {
   "cell_type": "code",
   "execution_count": 1,
   "metadata": {},
   "outputs": [],
   "source": [
    "import sqlite3\n",
    "from cards import deck\n",
    "import itertools\n",
    "import numpy as np\n",
    "from sqlconnection import DBManager"
   ]
  },
  {
   "cell_type": "markdown",
   "metadata": {},
   "source": [
    "conn = sqlite3.connect('sqlite3 texas_holdem.db')\n",
    "\n"
   ]
  },
  {
   "cell_type": "markdown",
   "metadata": {},
   "source": [
    "query= \"\"\"CREATE TABLE hands(\n",
    "            player_0_card_1_suit,\n",
    "            player_0_card_1_name,\n",
    "            player_0_card_2_suit,\n",
    "            player_0_card_2_name,\n",
    "            flop_card1_suit,\n",
    "            flop_card1_name,\n",
    "            flop_card2_suit,\n",
    "            flop_card2_name,\n",
    "            flop_card3_suit,\n",
    "            flop_card3_name,\n",
    "            turn_card_suit,\n",
    "            turn_card_name,\n",
    "            river_card_suit,\n",
    "            river_card_name,\n",
    "            win_probabilty);\n",
    "        \"\"\""
   ]
  },
  {
   "cell_type": "markdown",
   "metadata": {},
   "source": [
    "query = \"PRAGMA table_info(hands);\""
   ]
  },
  {
   "cell_type": "markdown",
   "metadata": {},
   "source": [
    "conn.execute(query).fetchall()"
   ]
  },
  {
   "cell_type": "code",
   "execution_count": 2,
   "metadata": {},
   "outputs": [],
   "source": [
    "hand = [(0, 1), (0, 13), None, None, None, None, None]"
   ]
  },
  {
   "cell_type": "code",
   "execution_count": 3,
   "metadata": {},
   "outputs": [],
   "source": [
    "conn = DBManager('sqlite3 texas_holdem.db')"
   ]
  },
  {
   "cell_type": "code",
   "execution_count": 4,
   "metadata": {},
   "outputs": [
    {
     "data": {
      "text/plain": [
       "[]"
      ]
     },
     "execution_count": 4,
     "metadata": {},
     "output_type": "execute_result"
    }
   ],
   "source": []
  },
  {
   "cell_type": "code",
   "execution_count": 5,
   "metadata": {},
   "outputs": [
    {
     "data": {
      "text/plain": [
       "[]"
      ]
     },
     "execution_count": 5,
     "metadata": {},
     "output_type": "execute_result"
    }
   ],
   "source": [
    "conn.query('select * from hands')"
   ]
  },
  {
   "cell_type": "code",
   "execution_count": 6,
   "metadata": {},
   "outputs": [
    {
     "name": "stdout",
     "output_type": "stream",
     "text": [
      "player_0_card_1_suit\n",
      "player_0_card_1_name\n",
      "player_0_card_2_suit\n",
      "player_0_card_2_name\n",
      "flop_card1_suit\n",
      "flop_card1_name\n",
      "flop_card2_suit\n",
      "flop_card2_name\n",
      "flop_card3_suit\n",
      "flop_card3_name\n",
      "turn_card_suit\n",
      "turn_card_name\n",
      "river_card_suit\n",
      "river_card_name\n",
      "win_probabilty\n"
     ]
    },
    {
     "data": {
      "text/plain": [
       "['player_0_card_1_suit',\n",
       " 'player_0_card_1_name',\n",
       " 'player_0_card_2_suit',\n",
       " 'player_0_card_2_name',\n",
       " 'flop_card1_suit',\n",
       " 'flop_card1_name',\n",
       " 'flop_card2_suit',\n",
       " 'flop_card2_name',\n",
       " 'flop_card3_suit',\n",
       " 'flop_card3_name',\n",
       " 'turn_card_suit',\n",
       " 'turn_card_name',\n",
       " 'river_card_suit',\n",
       " 'river_card_name',\n",
       " 'win_probabilty']"
      ]
     },
     "execution_count": 6,
     "metadata": {},
     "output_type": "execute_result"
    }
   ],
   "source": [
    "conn.showColumnName()"
   ]
  },
  {
   "cell_type": "code",
   "execution_count": 7,
   "metadata": {},
   "outputs": [
    {
     "data": {
      "text/plain": [
       "[(0,\n",
       "  1,\n",
       "  0,\n",
       "  13,\n",
       "  None,\n",
       "  None,\n",
       "  None,\n",
       "  None,\n",
       "  None,\n",
       "  None,\n",
       "  None,\n",
       "  None,\n",
       "  None,\n",
       "  None,\n",
       "  0.2313)]"
      ]
     },
     "execution_count": 7,
     "metadata": {},
     "output_type": "execute_result"
    }
   ],
   "source": [
    "conn.insertHandScenario(hand)\n",
    "conn.showAll()"
   ]
  },
  {
   "cell_type": "code",
   "execution_count": 8,
   "metadata": {},
   "outputs": [
    {
     "data": {
      "text/plain": [
       "15"
      ]
     },
     "execution_count": 8,
     "metadata": {},
     "output_type": "execute_result"
    }
   ],
   "source": [
    "len(conn.showAll()[0])"
   ]
  },
  {
   "cell_type": "code",
   "execution_count": 9,
   "metadata": {},
   "outputs": [
    {
     "name": "stdout",
     "output_type": "stream",
     "text": [
      "player_0_card_1_suit\n",
      "player_0_card_1_name\n",
      "player_0_card_2_suit\n",
      "player_0_card_2_name\n",
      "flop_card1_suit\n",
      "flop_card1_name\n",
      "flop_card2_suit\n",
      "flop_card2_name\n",
      "flop_card3_suit\n",
      "flop_card3_name\n",
      "turn_card_suit\n",
      "turn_card_name\n",
      "river_card_suit\n",
      "river_card_name\n",
      "win_probabilty\n"
     ]
    }
   ],
   "source": [
    "query = []\n",
    "for i in hand:\n",
    "    if i == None:\n",
    "        query.append(None)\n",
    "        query.append(None)\n",
    "    else:\n",
    "        query.append(i[0])\n",
    "        query.append(i[1])\n",
    "        \n",
    "columns = conn.showColumnName()"
   ]
  },
  {
   "cell_type": "code",
   "execution_count": 10,
   "metadata": {},
   "outputs": [
    {
     "data": {
      "text/plain": [
       "'[0, 1, 0, 13, None, None, None, None, None, None, None, None, None, None]'"
      ]
     },
     "execution_count": 10,
     "metadata": {},
     "output_type": "execute_result"
    }
   ],
   "source": [
    "str(query)"
   ]
  },
  {
   "cell_type": "code",
   "execution_count": 11,
   "metadata": {},
   "outputs": [],
   "source": [
    "pull = 'SELECT win_probabilty FROM hands WHERE '\n",
    "for i, j in zip(columns, query):\n",
    "    if j == None:\n",
    "        pull += f\" {i} is NULL AND\"\n",
    "    else:\n",
    "        pull += f\" {i} = {j} AND\"\n",
    "    \n",
    "pull= pull[:-4]"
   ]
  },
  {
   "cell_type": "code",
   "execution_count": 12,
   "metadata": {},
   "outputs": [
    {
     "data": {
      "text/plain": [
       "'SELECT win_probabilty FROM hands WHERE  player_0_card_1_suit = 0 AND player_0_card_1_name = 1 AND player_0_card_2_suit = 0 AND player_0_card_2_name = 13 AND flop_card1_suit is NULL AND flop_card1_name is NULL AND flop_card2_suit is NULL AND flop_card2_name is NULL AND flop_card3_suit is NULL AND flop_card3_name is NULL AND turn_card_suit is NULL AND turn_card_name is NULL AND river_card_suit is NULL AND river_card_name is NULL'"
      ]
     },
     "execution_count": 12,
     "metadata": {},
     "output_type": "execute_result"
    }
   ],
   "source": [
    "pull"
   ]
  },
  {
   "cell_type": "code",
   "execution_count": 13,
   "metadata": {},
   "outputs": [
    {
     "data": {
      "text/plain": [
       "[(0.2313,)]"
      ]
     },
     "execution_count": 13,
     "metadata": {},
     "output_type": "execute_result"
    }
   ],
   "source": [
    "conn.query(pull)"
   ]
  },
  {
   "cell_type": "code",
   "execution_count": 14,
   "metadata": {},
   "outputs": [],
   "source": [
    "query = 'delete FROM hands WHERE  player_0_card_1_suit = 0 AND player_0_card_1_name = 1 AND player_0_card_2_suit = 0 AND player_0_card_2_name = 13 AND flop_card1_suit is NULL AND flop_card1_name is NULL AND flop_card2_suit is NULL AND flop_card2_name is NULL AND flop_card3_suit is NULL AND flop_card3_name is NULL AND turn_card_suit is NULL AND turn_card_name is NULL AND river_card_suit is NULL AND river_card_name is NULL'"
   ]
  },
  {
   "cell_type": "code",
   "execution_count": 15,
   "metadata": {},
   "outputs": [
    {
     "data": {
      "text/plain": [
       "[]"
      ]
     },
     "execution_count": 15,
     "metadata": {},
     "output_type": "execute_result"
    }
   ],
   "source": [
    "conn.query(query)"
   ]
  },
  {
   "cell_type": "code",
   "execution_count": 16,
   "metadata": {},
   "outputs": [
    {
     "data": {
      "text/plain": [
       "[]"
      ]
     },
     "execution_count": 16,
     "metadata": {},
     "output_type": "execute_result"
    }
   ],
   "source": [
    "conn.showAll()"
   ]
  },
  {
   "cell_type": "code",
   "execution_count": null,
   "metadata": {},
   "outputs": [],
   "source": []
  }
 ],
 "metadata": {
  "kernelspec": {
   "display_name": "Python 3",
   "language": "python",
   "name": "python3"
  },
  "language_info": {
   "codemirror_mode": {
    "name": "ipython",
    "version": 3
   },
   "file_extension": ".py",
   "mimetype": "text/x-python",
   "name": "python",
   "nbconvert_exporter": "python",
   "pygments_lexer": "ipython3",
   "version": "3.7.3"
  }
 },
 "nbformat": 4,
 "nbformat_minor": 2
}
