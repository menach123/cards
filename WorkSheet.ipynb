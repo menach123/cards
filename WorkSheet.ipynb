{
 "cells": [
  {
   "cell_type": "code",
   "execution_count": null,
   "metadata": {},
   "outputs": [],
   "source": [
    "from texas import TexasHoldThem, deck\n",
    "from sqlconnection import DBManager\n",
    "import itertools"
   ]
  },
  {
   "cell_type": "code",
   "execution_count": null,
   "metadata": {},
   "outputs": [],
   "source": [
    "game = TexasHoldThem(6)\n",
    "conn = DBManager()"
   ]
  },
  {
   "cell_type": "code",
   "execution_count": null,
   "metadata": {},
   "outputs": [],
   "source": [
    "players = int(input())\n",
    "game.__init__(players)\n",
    "\n",
    "first = conn.convertStringCodeToTuple(input().upper())\n",
    "second = conn.convertStringCodeToTuple(input().upper())\n",
    "cards = first + second\n",
    "\n",
    "game.addPlayerAndCommon(cards)\n",
    "print(game.samplingSimulation(cards, samples=20, players =players))\n",
    "\n",
    "flop1 = conn.convertStringCodeToTuple(input().upper())\n",
    "flop2 = conn.convertStringCodeToTuple(input().upper())\n",
    "flop3 = conn.convertStringCodeToTuple(input().upper())\n",
    "\n",
    "cards += flop1+ flop2+ flop3\n",
    "\n",
    "game.__init__(players)\n",
    "game.addPlayerAndCommon(cards)\n",
    "print(game.samplingSimulation(cards, samples=20, players =players))\n",
    "\n",
    "turn = conn.convertStringCodeToTuple(input().upper())\n",
    "cards += turn\n",
    "\n",
    "game.__init__(players)\n",
    "game.addPlayerAndCommon(cards)\n",
    "print(game.samplingSimulation(cards, samples=20, players =players))\n",
    "\n",
    "river = conn.convertStringCodeToTuple(input().upper())\n",
    "cards += river\n",
    "\n",
    "game.__init__(players)\n",
    "game.addPlayerAndCommon(cards)\n",
    "print(game.samplingSimulation(cards, samples=20, players =players))\n",
    "\n",
    "\n"
   ]
  },
  {
   "cell_type": "code",
   "execution_count": 8,
   "metadata": {},
   "outputs": [
    {
     "name": "stdout",
     "output_type": "stream",
     "text": [
      "8c\n",
      "10d\n"
     ]
    },
    {
     "data": {
      "text/plain": [
       "[(1.08,)]"
      ]
     },
     "execution_count": 8,
     "metadata": {},
     "output_type": "execute_result"
    }
   ],
   "source": [
    "players = players = 10\n",
    "game.__init__(players)\n",
    "\n",
    "first = conn.convertStringCodeToTuple(input().upper())\n",
    "second = conn.convertStringCodeToTuple(input().upper())\n",
    "cards = first + second\n",
    "game.__init__(players)\n",
    "\n",
    "game.addPlayerAndCommon(cards)\n",
    "game.findProb10(0)"
   ]
  },
  {
   "cell_type": "code",
   "execution_count": null,
   "metadata": {},
   "outputs": [],
   "source": []
  }
 ],
 "metadata": {
  "kernelspec": {
   "display_name": "Python 3",
   "language": "python",
   "name": "python3"
  },
  "language_info": {
   "codemirror_mode": {
    "name": "ipython",
    "version": 3
   },
   "file_extension": ".py",
   "mimetype": "text/x-python",
   "name": "python",
   "nbconvert_exporter": "python",
   "pygments_lexer": "ipython3",
   "version": "3.7.3"
  }
 },
 "nbformat": 4,
 "nbformat_minor": 2
}
