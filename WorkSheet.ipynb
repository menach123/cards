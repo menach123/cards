{
 "cells": [
  {
   "cell_type": "code",
   "execution_count": 1,
   "metadata": {},
   "outputs": [],
   "source": [
    "from texas import TexasHoldThem, deck\n",
    "from cards import high_card_order, hand_rank"
   ]
  },
  {
   "cell_type": "code",
   "execution_count": 2,
   "metadata": {},
   "outputs": [],
   "source": [
    "self = TexasHoldThem(10)"
   ]
  },
  {
   "cell_type": "code",
   "execution_count": 3,
   "metadata": {},
   "outputs": [],
   "source": [
    "self.fill()"
   ]
  },
  {
   "cell_type": "code",
   "execution_count": 4,
   "metadata": {},
   "outputs": [
    {
     "name": "stdout",
     "output_type": "stream",
     "text": [
      "0\n",
      "spades 4\n",
      "diamonds 3\n",
      "1\n",
      "diamonds 9\n",
      "hearts jack\n",
      "2\n",
      "spades 8\n",
      "clubs jack\n",
      "3\n",
      "clubs 6\n",
      "hearts 2\n",
      "4\n",
      "hearts 10\n",
      "spades king\n",
      "5\n",
      "diamonds ace\n",
      "diamonds 2\n",
      "6\n",
      "hearts 3\n",
      "diamonds queen\n",
      "7\n",
      "clubs ace\n",
      "spades 3\n",
      "8\n",
      "clubs 2\n",
      "diamonds 6\n",
      "9\n",
      "spades queen\n",
      "spades 7\n",
      "Common Cards\n",
      "spades 6\n",
      "diamonds king\n",
      "clubs 7\n",
      "spades 9\n",
      "spades ace\n"
     ]
    }
   ],
   "source": [
    "self.showCards()"
   ]
  },
  {
   "cell_type": "code",
   "execution_count": 5,
   "metadata": {},
   "outputs": [
    {
     "name": "stdout",
     "output_type": "stream",
     "text": [
      "0\n",
      "(0, 13)\n",
      "[(3, 3), (1, 2), (3, 5), (1, 12), (3, 13)]\n",
      "1\n",
      "(1, 8)\n",
      "[(1, 8), (2, 10), (3, 5), (1, 12), (3, 8)]\n",
      "2\n",
      "(0, 13)\n",
      "[(3, 7), (0, 10), (3, 5), (1, 12), (3, 13)]\n",
      "3\n",
      "(1, 5)\n",
      "[(0, 5), (2, 1), (3, 5), (1, 12), (0, 6)]\n",
      "4\n",
      "(1, 12)\n",
      "[(2, 9), (3, 12), (3, 5), (1, 12), (0, 6)]\n",
      "5\n",
      "(1, 13)\n",
      "[(1, 13), (1, 1), (3, 5), (1, 12), (3, 13)]\n",
      "6\n",
      "(0, 13)\n",
      "[(2, 2), (1, 11), (3, 5), (1, 12), (3, 13)]\n",
      "7\n",
      "(1, 13)\n",
      "[(0, 13), (3, 2), (3, 5), (1, 12), (3, 13)]\n",
      "8\n",
      "(1, 5)\n",
      "[(0, 1), (1, 5), (3, 5), (1, 12), (0, 6)]\n",
      "9\n",
      "(1, 6)\n",
      "[(3, 11), (3, 6), (3, 5), (1, 12), (0, 6)]\n"
     ]
    }
   ],
   "source": [
    "self.assignRank()\n"
   ]
  },
  {
   "cell_type": "code",
   "execution_count": 14,
   "metadata": {
    "scrolled": false
   },
   "outputs": [
    {
     "name": "stdout",
     "output_type": "stream",
     "text": [
      "High card\n",
      "[('4', 'spades'), ('3', 'diamonds'), ('6', 'spades'), ('king', 'diamonds'), ('ace', 'spades')]\n",
      "One pair\n",
      "[('9', 'diamonds'), ('jack', 'hearts'), ('6', 'spades'), ('king', 'diamonds'), ('9', 'spades')]\n",
      "High card\n",
      "[('8', 'spades'), ('jack', 'clubs'), ('6', 'spades'), ('king', 'diamonds'), ('ace', 'spades')]\n",
      "One pair\n",
      "[('6', 'clubs'), ('2', 'hearts'), ('6', 'spades'), ('king', 'diamonds'), ('7', 'clubs')]\n",
      "One pair\n",
      "[('10', 'hearts'), ('king', 'spades'), ('6', 'spades'), ('king', 'diamonds'), ('7', 'clubs')]\n",
      "One pair\n",
      "[('ace', 'diamonds'), ('2', 'diamonds'), ('6', 'spades'), ('king', 'diamonds'), ('ace', 'spades')]\n",
      "High card\n",
      "[('3', 'hearts'), ('queen', 'diamonds'), ('6', 'spades'), ('king', 'diamonds'), ('ace', 'spades')]\n",
      "One pair\n",
      "[('ace', 'clubs'), ('3', 'spades'), ('6', 'spades'), ('king', 'diamonds'), ('ace', 'spades')]\n",
      "One pair\n",
      "[('2', 'clubs'), ('6', 'diamonds'), ('6', 'spades'), ('king', 'diamonds'), ('7', 'clubs')]\n",
      "One pair\n",
      "[('queen', 'spades'), ('7', 'spades'), ('6', 'spades'), ('king', 'diamonds'), ('7', 'clubs')]\n"
     ]
    }
   ],
   "source": [
    "for player in self.player_list:\n",
    "    print(hand_rank[player.rank[0]])\n",
    "    print([(deck[card]['name'], deck[card]['suit']) for card in player.full_hand])"
   ]
  },
  {
   "cell_type": "code",
   "execution_count": null,
   "metadata": {},
   "outputs": [],
   "source": []
  }
 ],
 "metadata": {
  "kernelspec": {
   "display_name": "Python 3",
   "language": "python",
   "name": "python3"
  },
  "language_info": {
   "codemirror_mode": {
    "name": "ipython",
    "version": 3
   },
   "file_extension": ".py",
   "mimetype": "text/x-python",
   "name": "python",
   "nbconvert_exporter": "python",
   "pygments_lexer": "ipython3",
   "version": "3.7.3"
  }
 },
 "nbformat": 4,
 "nbformat_minor": 2
}
