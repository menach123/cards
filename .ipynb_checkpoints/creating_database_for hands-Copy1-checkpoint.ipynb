{
 "cells": [
  {
   "cell_type": "code",
   "execution_count": 1,
   "metadata": {},
   "outputs": [],
   "source": [
    "import sqlite3\n",
    "from cards import deck\n",
    "import itertools\n",
    "import numpy as np\n",
    "from sqlconnection import DBManager"
   ]
  },
  {
   "cell_type": "markdown",
   "metadata": {},
   "source": [
    "conn = sqlite3.connect('sqlite3 texas_holdem.db')\n",
    "\n"
   ]
  },
  {
   "cell_type": "markdown",
   "metadata": {},
   "source": [
    "query= \"\"\"CREATE TABLE hands(\n",
    "            player_0_card_1_suit,\n",
    "            player_0_card_1_name,\n",
    "            player_0_card_2_suit,\n",
    "            player_0_card_2_name,\n",
    "            flop_card1_suit,\n",
    "            flop_card1_name,\n",
    "            flop_card2_suit,\n",
    "            flop_card2_name,\n",
    "            flop_card3_suit,\n",
    "            flop_card3_name,\n",
    "            turn_card_suit,\n",
    "            turn_card_name,\n",
    "            river_card_suit,\n",
    "            river_card_name,\n",
    "            win_probabilty);\n",
    "        \"\"\""
   ]
  },
  {
   "cell_type": "markdown",
   "metadata": {},
   "source": [
    "query = \"PRAGMA table_info(hands);\""
   ]
  },
  {
   "cell_type": "markdown",
   "metadata": {},
   "source": [
    "conn.execute(query).fetchall()"
   ]
  },
  {
   "cell_type": "code",
   "execution_count": 2,
   "metadata": {},
   "outputs": [],
   "source": [
    "hand = [(0, 1), (0, 13), None, None, None, None, None]"
   ]
  },
  {
   "cell_type": "code",
   "execution_count": 3,
   "metadata": {},
   "outputs": [],
   "source": [
    "conn = DBManager('sqlite3 texas_holdem.db')"
   ]
  },
  {
   "cell_type": "code",
   "execution_count": 4,
   "metadata": {},
   "outputs": [
    {
     "data": {
      "text/plain": [
       "[]"
      ]
     },
     "execution_count": 4,
     "metadata": {},
     "output_type": "execute_result"
    }
   ],
   "source": [
    "conn.showAll()"
   ]
  },
  {
   "cell_type": "code",
   "execution_count": 5,
   "metadata": {},
   "outputs": [
    {
     "data": {
      "text/plain": [
       "[]"
      ]
     },
     "execution_count": 5,
     "metadata": {},
     "output_type": "execute_result"
    }
   ],
   "source": [
    "conn.query('select * from hands')"
   ]
  },
  {
   "cell_type": "code",
   "execution_count": 6,
   "metadata": {},
   "outputs": [
    {
     "name": "stdout",
     "output_type": "stream",
     "text": [
      "player_0_card_1_suit\n",
      "player_0_card_1_name\n",
      "player_0_card_2_suit\n",
      "player_0_card_2_name\n",
      "flop_card1_suit\n",
      "flop_card1_name\n",
      "flop_card2_suit\n",
      "flop_card2_name\n",
      "flop_card3_suit\n",
      "flop_card3_name\n",
      "turn_card_suit\n",
      "turn_card_name\n",
      "river_card_suit\n",
      "river_card_name\n",
      "win_probabilty\n"
     ]
    },
    {
     "data": {
      "text/plain": [
       "['player_0_card_1_suit',\n",
       " 'player_0_card_1_name',\n",
       " 'player_0_card_2_suit',\n",
       " 'player_0_card_2_name',\n",
       " 'flop_card1_suit',\n",
       " 'flop_card1_name',\n",
       " 'flop_card2_suit',\n",
       " 'flop_card2_name',\n",
       " 'flop_card3_suit',\n",
       " 'flop_card3_name',\n",
       " 'turn_card_suit',\n",
       " 'turn_card_name',\n",
       " 'river_card_suit',\n",
       " 'river_card_name',\n",
       " 'win_probabilty']"
      ]
     },
     "execution_count": 6,
     "metadata": {},
     "output_type": "execute_result"
    }
   ],
   "source": [
    "conn.showColumnName()"
   ]
  },
  {
   "cell_type": "code",
   "execution_count": 7,
   "metadata": {},
   "outputs": [
    {
     "name": "stdout",
     "output_type": "stream",
     "text": [
      "INSERT INTO hands VALUES (0, 1, 0, 13, NULL, NULL, NULL, NULL, NULL, NULL, NULL, NULL, NULL, NULL, 0.2408);\n"
     ]
    },
    {
     "data": {
      "text/plain": [
       "[(0,\n",
       "  1,\n",
       "  0,\n",
       "  13,\n",
       "  None,\n",
       "  None,\n",
       "  None,\n",
       "  None,\n",
       "  None,\n",
       "  None,\n",
       "  None,\n",
       "  None,\n",
       "  None,\n",
       "  None,\n",
       "  0.2408)]"
      ]
     },
     "execution_count": 7,
     "metadata": {},
     "output_type": "execute_result"
    }
   ],
   "source": [
    "conn.insertHandScenario(hand)\n",
    "conn.showAll()"
   ]
  },
  {
   "cell_type": "code",
   "execution_count": 9,
   "metadata": {},
   "outputs": [
    {
     "data": {
      "text/plain": [
       "15"
      ]
     },
     "execution_count": 9,
     "metadata": {},
     "output_type": "execute_result"
    }
   ],
   "source": [
    "len(conn.showAll()[0])"
   ]
  },
  {
   "cell_type": "code",
   "execution_count": 20,
   "metadata": {},
   "outputs": [
    {
     "name": "stdout",
     "output_type": "stream",
     "text": [
      "player_0_card_1_suit\n",
      "player_0_card_1_name\n",
      "player_0_card_2_suit\n",
      "player_0_card_2_name\n",
      "flop_card1_suit\n",
      "flop_card1_name\n",
      "flop_card2_suit\n",
      "flop_card2_name\n",
      "flop_card3_suit\n",
      "flop_card3_name\n",
      "turn_card_suit\n",
      "turn_card_name\n",
      "river_card_suit\n",
      "river_card_name\n",
      "win_probabilty\n"
     ]
    }
   ],
   "source": [
    "query = []\n",
    "for i in hand:\n",
    "    if i == None:\n",
    "        query.append('NULL')\n",
    "        query.append('NULL')\n",
    "    else:\n",
    "        query.append(str(i[0]))\n",
    "        query.append(str(i[1]))\n",
    "        \n",
    "columns = conn.showColumnName()"
   ]
  },
  {
   "cell_type": "code",
   "execution_count": 19,
   "metadata": {},
   "outputs": [
    {
     "data": {
      "text/plain": [
       "\"['0', '1', '0', '13', 'NULL', 'NULL', 'NULL', 'NULL', 'NULL', 'NULL', 'NULL', 'NULL', 'NULL', 'NULL']\""
      ]
     },
     "execution_count": 19,
     "metadata": {},
     "output_type": "execute_result"
    }
   ],
   "source": [
    "str(query)"
   ]
  },
  {
   "cell_type": "code",
   "execution_count": 24,
   "metadata": {},
   "outputs": [],
   "source": [
    "pull = 'SELECT win_probabilty FROM hands WHERE'\n",
    "for i, j in zip(columns, query):\n",
    "    pull += f\" ({i} = {j}) AND\"\n",
    "    \n",
    "pull= pull[:-4]"
   ]
  },
  {
   "cell_type": "code",
   "execution_count": 25,
   "metadata": {},
   "outputs": [
    {
     "data": {
      "text/plain": [
       "'SELECT win_probabilty FROM hands WHERE (player_0_card_1_suit = 0) AND (player_0_card_1_name = 1) AND (player_0_card_2_suit = 0) AND (player_0_card_2_name = 13) AND (flop_card1_suit = NULL) AND (flop_card1_name = NULL) AND (flop_card2_suit = NULL) AND (flop_card2_name = NULL) AND (flop_card3_suit = NULL) AND (flop_card3_name = NULL) AND (turn_card_suit = NULL) AND (turn_card_name = NULL) AND (river_card_suit = NULL) AND (river_card_name = NULL)'"
      ]
     },
     "execution_count": 25,
     "metadata": {},
     "output_type": "execute_result"
    }
   ],
   "source": [
    "pull"
   ]
  },
  {
   "cell_type": "code",
   "execution_count": 29,
   "metadata": {},
   "outputs": [],
   "source": [
    "\"\"\"SELECT win_probabilty FROM hands WHERE (player_0_card_1_suit = 0 AND player_0_card_1_name = 1 AND player_0_card_2_suit = 0 AND player_0_card_2_name = 13 AND flop_card1_suit = NULL AND flop_card1_name = NULL AND flop_card2_suit = NULL AND flop_card2_name = NULL AND flop_card3_suit = NULL AND flop_card3_name = NULL AND turn_card_suit = NULL AND turn_card_name = NULL AND river_card_suit = NULL AND river_card_name = NULL\""
   ]
  },
  {
   "cell_type": "code",
   "execution_count": 30,
   "metadata": {},
   "outputs": [
    {
     "ename": "OperationalError",
     "evalue": "incomplete input",
     "output_type": "error",
     "traceback": [
      "\u001b[1;31m---------------------------------------------------------------------------\u001b[0m",
      "\u001b[1;31mOperationalError\u001b[0m                          Traceback (most recent call last)",
      "\u001b[1;32m<ipython-input-30-34192a425c39>\u001b[0m in \u001b[0;36m<module>\u001b[1;34m\u001b[0m\n\u001b[1;32m----> 1\u001b[1;33m \u001b[0mconn\u001b[0m\u001b[1;33m.\u001b[0m\u001b[0mquery\u001b[0m\u001b[1;33m(\u001b[0m\u001b[0mpull\u001b[0m\u001b[1;33m)\u001b[0m\u001b[1;33m\u001b[0m\u001b[1;33m\u001b[0m\u001b[0m\n\u001b[0m",
      "\u001b[1;32m~\\DataScience\\cards\\sqlconnection.py\u001b[0m in \u001b[0;36mquery\u001b[1;34m(self, sql)\u001b[0m\n\u001b[0;32m     16\u001b[0m         \u001b[1;32mwith\u001b[0m \u001b[0mcon\u001b[0m\u001b[1;33m:\u001b[0m\u001b[1;33m\u001b[0m\u001b[1;33m\u001b[0m\u001b[0m\n\u001b[0;32m     17\u001b[0m             \u001b[0mcur\u001b[0m \u001b[1;33m=\u001b[0m \u001b[0mcon\u001b[0m\u001b[1;33m.\u001b[0m\u001b[0mcursor\u001b[0m\u001b[1;33m(\u001b[0m\u001b[1;33m)\u001b[0m\u001b[1;33m\u001b[0m\u001b[1;33m\u001b[0m\u001b[0m\n\u001b[1;32m---> 18\u001b[1;33m             \u001b[0mcur\u001b[0m\u001b[1;33m.\u001b[0m\u001b[0mexecute\u001b[0m\u001b[1;33m(\u001b[0m\u001b[0msql\u001b[0m\u001b[1;33m)\u001b[0m\u001b[1;33m\u001b[0m\u001b[1;33m\u001b[0m\u001b[0m\n\u001b[0m\u001b[0;32m     19\u001b[0m             \u001b[0mres\u001b[0m \u001b[1;33m=\u001b[0m \u001b[0mcur\u001b[0m\u001b[1;33m.\u001b[0m\u001b[0mfetchall\u001b[0m\u001b[1;33m(\u001b[0m\u001b[1;33m)\u001b[0m\u001b[1;33m\u001b[0m\u001b[1;33m\u001b[0m\u001b[0m\n\u001b[0;32m     20\u001b[0m         \u001b[1;32mif\u001b[0m \u001b[0mcon\u001b[0m\u001b[1;33m:\u001b[0m\u001b[1;33m\u001b[0m\u001b[1;33m\u001b[0m\u001b[0m\n",
      "\u001b[1;31mOperationalError\u001b[0m: incomplete input"
     ]
    }
   ],
   "source": [
    "conn.query(pull)"
   ]
  },
  {
   "cell_type": "code",
   "execution_count": 31,
   "metadata": {},
   "outputs": [
    {
     "data": {
      "text/plain": [
       "'SELECT * \\n    FROM hands \\n    WHERE (player_0_card_1_suit = 0 AND player_0_card_1_name = 1 \\n    AND player_0_card_2_suit = 0 AND player_0_card_2_name = 13\\n    AND flop_card1_suit = NULL AND flop_card1_name = NULL\\n    AND flop_card2_suit = NULL AND flop_card2_name = NULL \\n    AND flop_card3_suit = NULL AND flop_card3_name = NULL\\n    AND turn_card_suit = NULL AND turn_card_name = NULL\\n    AND river_card_suit = NULL AND river_card_name = NULL'"
      ]
     },
     "execution_count": 31,
     "metadata": {},
     "output_type": "execute_result"
    }
   ],
   "source": [
    "pull"
   ]
  },
  {
   "cell_type": "code",
   "execution_count": null,
   "metadata": {},
   "outputs": [],
   "source": []
  }
 ],
 "metadata": {
  "kernelspec": {
   "display_name": "Python 3",
   "language": "python",
   "name": "python3"
  },
  "language_info": {
   "codemirror_mode": {
    "name": "ipython",
    "version": 3
   },
   "file_extension": ".py",
   "mimetype": "text/x-python",
   "name": "python",
   "nbconvert_exporter": "python",
   "pygments_lexer": "ipython3",
   "version": "3.7.3"
  }
 },
 "nbformat": 4,
 "nbformat_minor": 2
}
