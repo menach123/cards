{
 "cells": [
  {
   "cell_type": "code",
   "execution_count": 1,
   "metadata": {},
   "outputs": [],
   "source": [
    "from texas import TexasHoldThem, deck\n",
    "from cards import high_card_order, hand_rank"
   ]
  },
  {
   "cell_type": "code",
   "execution_count": 2,
   "metadata": {},
   "outputs": [],
   "source": [
    "self = TexasHoldThem(10)"
   ]
  },
  {
   "cell_type": "code",
   "execution_count": 3,
   "metadata": {},
   "outputs": [],
   "source": [
    "self.fill()"
   ]
  },
  {
   "cell_type": "code",
   "execution_count": 4,
   "metadata": {},
   "outputs": [
    {
     "name": "stdout",
     "output_type": "stream",
     "text": [
      "0\n",
      "spades 7\n",
      "clubs 8\n",
      "1\n",
      "spades 9\n",
      "clubs 10\n",
      "2\n",
      "diamonds jack\n",
      "diamonds 9\n",
      "3\n",
      "diamonds 10\n",
      "clubs 7\n",
      "4\n",
      "hearts 2\n",
      "hearts 4\n",
      "5\n",
      "hearts ace\n",
      "hearts 6\n",
      "6\n",
      "clubs 5\n",
      "spades 6\n",
      "7\n",
      "hearts 10\n",
      "spades 8\n",
      "8\n",
      "diamonds queen\n",
      "hearts queen\n",
      "9\n",
      "clubs 4\n",
      "spades queen\n",
      "Common Cards\n",
      "diamonds 4\n",
      "clubs 6\n",
      "diamonds ace\n",
      "diamonds 7\n",
      "hearts 5\n"
     ]
    }
   ],
   "source": [
    "self.showCards()"
   ]
  },
  {
   "cell_type": "code",
   "execution_count": 5,
   "metadata": {},
   "outputs": [
    {
     "name": "stdout",
     "output_type": "stream",
     "text": [
      "0\n"
     ]
    },
    {
     "ename": "AttributeError",
     "evalue": "'Player' object has no attribute 'hand'",
     "output_type": "error",
     "traceback": [
      "\u001b[1;31m---------------------------------------------------------------------------\u001b[0m",
      "\u001b[1;31mAttributeError\u001b[0m                            Traceback (most recent call last)",
      "\u001b[1;32m<ipython-input-5-2c3fb4d384b4>\u001b[0m in \u001b[0;36m<module>\u001b[1;34m\u001b[0m\n\u001b[0;32m     73\u001b[0m \u001b[1;33m\u001b[0m\u001b[0m\n\u001b[0;32m     74\u001b[0m         \u001b[0mrank\u001b[0m \u001b[1;33m=\u001b[0m \u001b[1;33m(\u001b[0m\u001b[1;36m0\u001b[0m\u001b[1;33m,\u001b[0m \u001b[0mself\u001b[0m\u001b[1;33m.\u001b[0m\u001b[0mfindHighOrder\u001b[0m\u001b[1;33m(\u001b[0m\u001b[0mplayer\u001b[0m\u001b[1;33m.\u001b[0m\u001b[0mhands\u001b[0m\u001b[1;33m[\u001b[0m\u001b[0mj\u001b[0m\u001b[1;33m]\u001b[0m\u001b[1;33m)\u001b[0m\u001b[1;33m[\u001b[0m\u001b[1;33m-\u001b[0m\u001b[1;36m1\u001b[0m\u001b[1;33m]\u001b[0m\u001b[1;33m)\u001b[0m\u001b[1;33m\u001b[0m\u001b[1;33m\u001b[0m\u001b[0m\n\u001b[1;32m---> 75\u001b[1;33m         \u001b[0mself\u001b[0m\u001b[1;33m.\u001b[0m\u001b[0mcheckRank\u001b[0m\u001b[1;33m(\u001b[0m\u001b[0mrank\u001b[0m\u001b[1;33m,\u001b[0m \u001b[0mself\u001b[0m\u001b[1;33m.\u001b[0m\u001b[0mplayer_list\u001b[0m\u001b[1;33m[\u001b[0m\u001b[0mi\u001b[0m\u001b[1;33m]\u001b[0m\u001b[1;33m)\u001b[0m\u001b[1;33m\u001b[0m\u001b[1;33m\u001b[0m\u001b[0m\n\u001b[0m\u001b[0;32m     76\u001b[0m \u001b[1;33m\u001b[0m\u001b[0m\n\u001b[0;32m     77\u001b[0m     \u001b[0mprint\u001b[0m\u001b[1;33m(\u001b[0m\u001b[0mself\u001b[0m\u001b[1;33m.\u001b[0m\u001b[0mplayer_list\u001b[0m\u001b[1;33m[\u001b[0m\u001b[0mi\u001b[0m\u001b[1;33m]\u001b[0m\u001b[1;33m.\u001b[0m\u001b[0mrank\u001b[0m\u001b[1;33m)\u001b[0m\u001b[1;33m\u001b[0m\u001b[1;33m\u001b[0m\u001b[0m\n",
      "\u001b[1;32m~\\DataScience\\cards\\cards.py\u001b[0m in \u001b[0;36mcheckRank\u001b[1;34m(self, rank, player)\u001b[0m\n\u001b[0;32m    256\u001b[0m         \u001b[1;32mif\u001b[0m \u001b[0mrank\u001b[0m \u001b[1;33m>\u001b[0m \u001b[0mplayer\u001b[0m\u001b[1;33m.\u001b[0m\u001b[0mrank\u001b[0m\u001b[1;33m:\u001b[0m\u001b[1;33m\u001b[0m\u001b[1;33m\u001b[0m\u001b[0m\n\u001b[0;32m    257\u001b[0m             \u001b[0mplayer\u001b[0m\u001b[1;33m.\u001b[0m\u001b[0mrank\u001b[0m \u001b[1;33m=\u001b[0m \u001b[0mrank\u001b[0m\u001b[1;33m\u001b[0m\u001b[1;33m\u001b[0m\u001b[0m\n\u001b[1;32m--> 258\u001b[1;33m             \u001b[0mplayer\u001b[0m\u001b[1;33m.\u001b[0m\u001b[0mfull_hand\u001b[0m \u001b[1;33m=\u001b[0m \u001b[0mplayer\u001b[0m\u001b[1;33m.\u001b[0m\u001b[0mhand\u001b[0m\u001b[1;33m\u001b[0m\u001b[1;33m\u001b[0m\u001b[0m\n\u001b[0m\u001b[0;32m    259\u001b[0m         \u001b[1;32mreturn\u001b[0m \u001b[1;32mNone\u001b[0m\u001b[1;33m\u001b[0m\u001b[1;33m\u001b[0m\u001b[0m\n\u001b[0;32m    260\u001b[0m \u001b[1;33m\u001b[0m\u001b[0m\n",
      "\u001b[1;31mAttributeError\u001b[0m: 'Player' object has no attribute 'hand'"
     ]
    }
   ],
   "source": [
    "for i, player in enumerate(self.player_list):\n",
    "    print(player.no)\n",
    "    for j, hand in enumerate(player.hands):\n",
    "        \n",
    "        flush = self.testForFlush(hand)\n",
    "        straight = self.testForStraight(hand)\n",
    "        if self.testForStraightFlush(flush, straight):\n",
    "            rank = (8, self.pullStraightHighCard(hand))\n",
    "            self.checkRank(rank, self.player_list[i], hand)    \n",
    "                \n",
    "        if self.player_list[i].rank > (8,0):\n",
    "            break\n",
    "            \n",
    "        multiple = self.testForMultiples(hand)\n",
    "                    \n",
    "        four = [key for key in multiple.keys() if multiple[key] == 4] \n",
    "        \n",
    "        if four != []:\n",
    "            rank = (7, four[-1])\n",
    "            self.checkRank(rank, self.player_list[i], hand)\n",
    "                \n",
    "        if self.player_list[i].rank > (7,0):\n",
    "            break\n",
    "        \n",
    "        three = [key for key in multiple.keys() if multiple[key] == 3] \n",
    "        two = [key for key in multiple.keys() if multiple[key] == 2] \n",
    "        \n",
    "        if (three != []) & (two != []):\n",
    "            rank = (6, three[-1]*100 +two[-1])\n",
    "            self.checkRank(rank, self.player_list[i], hand)\n",
    "            \n",
    "        if self.player_list[i].rank > (6,0):\n",
    "            break\n",
    "        \n",
    "        if flush:\n",
    "            rank = (5, self.findHighOrder(hand)[-1])\n",
    "            self.checkRank(rank, self.player_list[i], hand)\n",
    "                \n",
    "        if self.player_list[i].rank > (5,0):\n",
    "            break\n",
    "            \n",
    "        if (straight):\n",
    "            rank = (4, self.findHighOrder(hand)[-2])\n",
    "            self.checkRank(rank, self.player_list[i], hand)\n",
    "        \n",
    "        \n",
    "        if self.player_list[i].rank > (4,0):\n",
    "            break\n",
    "              \n",
    "        if three != []:\n",
    "            rank = (3, three[-1])\n",
    "            self.checkRank(rank, self.player_list[i], hand)\n",
    "        \n",
    "        if self.player_list[i].rank > (3,0):\n",
    "            break\n",
    "            \n",
    "        two = [key for key in multiple.keys() if multiple[key] == 2] \n",
    "        \n",
    "        if two != []:\n",
    "            if len(two) == 2:\n",
    "                two = sorted(two)\n",
    "                rank = (2, two[-1]*100 + two[-2])\n",
    "                self.checkRank(rank, self.player_list[i], hand)\n",
    "                \n",
    "            else:\n",
    "                if self.player_list[i].rank > (2,0):\n",
    "                    break\n",
    "                rank = (1, two[-1])\n",
    "                self.checkRank(rank, self.player_list[i], hand)\n",
    "        \n",
    "        if self.player_list[i].rank > (1,0):\n",
    "            break\n",
    "        \n",
    "        rank = (0, self.findHighOrder(player.hands[j])[-1])\n",
    "        self.checkRank(rank, self.player_list[i], hand)\n",
    "        \n",
    "    print(self.player_list[i].rank)\n",
    "    print(self.player_list[i].full_hand)\n",
    "        \n",
    "  "
   ]
  },
  {
   "cell_type": "code",
   "execution_count": null,
   "metadata": {},
   "outputs": [],
   "source": [
    "(2, (10, 2)) >= (2, (2, 10))"
   ]
  },
  {
   "cell_type": "code",
   "execution_count": null,
   "metadata": {
    "scrolled": true
   },
   "outputs": [],
   "source": [
    "(i for i in range(2))"
   ]
  },
  {
   "cell_type": "code",
   "execution_count": null,
   "metadata": {},
   "outputs": [],
   "source": []
  }
 ],
 "metadata": {
  "kernelspec": {
   "display_name": "Python 3",
   "language": "python",
   "name": "python3"
  },
  "language_info": {
   "codemirror_mode": {
    "name": "ipython",
    "version": 3
   },
   "file_extension": ".py",
   "mimetype": "text/x-python",
   "name": "python",
   "nbconvert_exporter": "python",
   "pygments_lexer": "ipython3",
   "version": "3.7.3"
  }
 },
 "nbformat": 4,
 "nbformat_minor": 2
}
