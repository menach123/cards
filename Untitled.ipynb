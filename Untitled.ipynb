{
 "cells": [
  {
   "cell_type": "markdown",
   "metadata": {},
   "source": [
    "### Poker Monte Carlo Simulation\n",
    "\n",
    "The purpose of this project is to find the information generate win probabilities for poker scenario. We are doing this by modeling different poker games. Then we will run multiple simulation and calulate the win probability."
   ]
  },
  {
   "cell_type": "markdown",
   "metadata": {},
   "source": [
    "Current Status:\n",
    "<ul>\n",
    "    <li>Create common lists<ul>\n",
    "        <li>suits</li>\n",
    "        <li>card names</li>\n",
    "        <li>order lists</li>\n",
    "        <li>deck of card (list of card dictionary)</li>\n",
    "        </ul>\n",
    "    </li>\n",
    "    <li>Create game parent class</li>    \n",
    "    <li>Create player class</li>\n",
    "    <li>Create Texas Holden  subclass</li>\n",
    "</ul>\n",
    "\n",
    "To Do:\n",
    "\n",
    "<ul>\n",
    "    <li>Creating hand strength test. </li>\n",
    "    <li>Simulation class</li>\n",
    "</ul>"
   ]
  },
  {
   "cell_type": "code",
   "execution_count": 3,
   "metadata": {},
   "outputs": [
    {
     "name": "stderr",
     "output_type": "stream",
     "text": [
      "[NbConvertApp] Converting notebook Untitled.ipynb to markdown\n",
      "[NbConvertApp] Writing 703 bytes to Untitled.md\n"
     ]
    }
   ],
   "source": [
    "!jupyter nbconvert --to markdown Untitled.ipynb\n",
    "!mv Untitled.md README.md\n"
   ]
  },
  {
   "cell_type": "code",
   "execution_count": null,
   "metadata": {},
   "outputs": [],
   "source": []
  }
 ],
 "metadata": {
  "kernelspec": {
   "display_name": "Python 3",
   "language": "python",
   "name": "python3"
  },
  "language_info": {
   "codemirror_mode": {
    "name": "ipython",
    "version": 3
   },
   "file_extension": ".py",
   "mimetype": "text/x-python",
   "name": "python",
   "nbconvert_exporter": "python",
   "pygments_lexer": "ipython3",
   "version": "3.6.6"
  }
 },
 "nbformat": 4,
 "nbformat_minor": 2
}
