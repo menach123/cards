{
 "cells": [
  {
   "cell_type": "code",
   "execution_count": 1,
   "metadata": {},
   "outputs": [],
   "source": [
    "import sqlite3\n",
    "import sys\n",
    "sys.path.append(\"../\")\n",
    "\n",
    "from cards import deck\n",
    "import itertools\n",
    "import numpy as np\n",
    "from texas import TexasHoldThem, deck\n",
    "from sqlconnection import DBManager\n",
    "import seaborn as sns\n",
    "import json\n",
    "\n",
    "def main():\n",
    "    game = TexasHoldThem(10)\n",
    "    player_hands = [[card for card in hand] for hand in itertools.combinations([card for card in deck.keys()], 2)]\n",
    "    conn = game.connection\n",
    "\n",
    "    for hand in player_hands:\n",
    "        print(conn.convertTupleToStringCode(hand))\n",
    "        prob10 = game.samplingSimulation(hand, samples= 25, simulations=100)\n",
    "        conn.insertHandScenario(hand, prob10)\n",
    "        print(conn.convertTupleToStringCode(hand), prob10)\n",
    "\n",
    "    pass"
   ]
  },
  {
   "cell_type": "code",
   "execution_count": 2,
   "metadata": {},
   "outputs": [],
   "source": [
    "query = \"\"\"\n",
    "        CREATE TABLE hands(\n",
    "        cards varchar(255),\n",
    "        probability FLOAT(3, 2),\n",
    "        PRIMARY KEY (cards));\n",
    "\"\"\""
   ]
  },
  {
   "cell_type": "code",
   "execution_count": 3,
   "metadata": {},
   "outputs": [],
   "source": [
    "conn = DBManager()"
   ]
  },
  {
   "cell_type": "code",
   "execution_count": 4,
   "metadata": {},
   "outputs": [
    {
     "data": {
      "text/plain": [
       "[]"
      ]
     },
     "execution_count": 4,
     "metadata": {},
     "output_type": "execute_result"
    }
   ],
   "source": [
    "conn.query(query)"
   ]
  },
  {
   "cell_type": "code",
   "execution_count": 5,
   "metadata": {},
   "outputs": [
    {
     "data": {
      "text/plain": [
       "['cards', 'probability']"
      ]
     },
     "execution_count": 5,
     "metadata": {},
     "output_type": "execute_result"
    }
   ],
   "source": [
    "conn.showColumnName()"
   ]
  },
  {
   "cell_type": "code",
   "execution_count": 7,
   "metadata": {},
   "outputs": [
    {
     "name": "stderr",
     "output_type": "stream",
     "text": [
      "warning: LF will be replaced by CRLF in worksheets/.ipynb_checkpoints/creating_database_for hands-checkpoint.ipynb.\n",
      "The file will have its original line endings in your working directory\n",
      "warning: LF will be replaced by CRLF in worksheets/creating_database_for hands.ipynb.\n",
      "The file will have its original line endings in your working directory\n"
     ]
    },
    {
     "name": "stdout",
     "output_type": "stream",
     "text": [
      "[master 614c080] updated the prob10\n",
      " 3 files changed, 2918 insertions(+)\n",
      " create mode 100644 worksheets/.ipynb_checkpoints/creating_database_for hands-checkpoint.ipynb\n",
      " create mode 100644 worksheets/creating_database_for hands.ipynb\n",
      " create mode 100644 worksheets/sqlite3 texas_holdem.db\n"
     ]
    },
    {
     "name": "stderr",
     "output_type": "stream",
     "text": [
      "To https://github.com/menach123/cards.git\n",
      "   4800196..614c080  master -> master\n"
     ]
    }
   ],
   "source": [
    "!git add .\n",
    "!git commit -m \"updated the prob10\"\n",
    "!git push"
   ]
  },
  {
   "cell_type": "code",
   "execution_count": null,
   "metadata": {},
   "outputs": [],
   "source": []
  }
 ],
 "metadata": {
  "kernelspec": {
   "display_name": "Python 3",
   "language": "python",
   "name": "python3"
  },
  "language_info": {
   "codemirror_mode": {
    "name": "ipython",
    "version": 3
   },
   "file_extension": ".py",
   "mimetype": "text/x-python",
   "name": "python",
   "nbconvert_exporter": "python",
   "pygments_lexer": "ipython3",
   "version": "3.6.6"
  }
 },
 "nbformat": 4,
 "nbformat_minor": 2
}
